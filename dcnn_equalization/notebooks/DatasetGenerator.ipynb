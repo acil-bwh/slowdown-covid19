{
 "cells": [
  {
   "cell_type": "code",
   "execution_count": 17,
   "metadata": {},
   "outputs": [],
   "source": [
    "import h5py\n",
    "import os\n",
    "from PIL import Image as pil_image\n",
    "import random\n",
    "import numpy as np\n",
    "from sklearn.model_selection import train_test_split"
   ]
  },
  {
   "cell_type": "code",
   "execution_count": 18,
   "metadata": {},
   "outputs": [],
   "source": [
    "in_dir = '/data/DNNData/shared/COVID19Project/cxr_equalization/input' \n",
    "out_dir = '/data/DNNData/shared/COVID19Project/cxr_equalization/output' \n",
    "input_file_list = [os.path.join(in_dir, f) for f in os.listdir(in_dir) if os.path.isfile(os.path.join(in_dir, f))]\n",
    "output_file_list = [os.path.join(out_dir, f) for f in os.listdir(out_dir) if os.path.isfile(os.path.join(out_dir, f))]\n"
   ]
  },
  {
   "cell_type": "code",
   "execution_count": 19,
   "metadata": {},
   "outputs": [],
   "source": [
    "c = list(zip(input_file_list, output_file_list))\n",
    "random.shuffle(c)\n",
    "input_file_list, output_file_list = zip(*c)"
   ]
  },
  {
   "cell_type": "code",
   "execution_count": 4,
   "metadata": {},
   "outputs": [
    {
     "data": {
      "text/plain": [
       "['/Users/pietro/Projects/DNNData/COVID-19/model-001-0.816905-0.742984.h5',\n",
       " '/Users/pietro/Projects/DNNData/COVID-19/tt.png',\n",
       " '/Users/pietro/Projects/DNNData/COVID-19/arch.png',\n",
       " '/Users/pietro/Projects/DNNData/COVID-19/tt.nrrd',\n",
       " '/Users/pietro/Projects/DNNData/COVID-19/tt.csv',\n",
       " '/Users/pietro/Projects/DNNData/COVID-19/tt_1.nrrd']"
      ]
     },
     "execution_count": 4,
     "metadata": {},
     "output_type": "execute_result"
    }
   ],
   "source": [
    "ff=h5py.File('/data/DNNData/shared/COVID19Project/cxr_equalization/dcnn_equalization_dataset.h5','w')"
   ]
  },
  {
   "cell_type": "code",
   "execution_count": null,
   "metadata": {},
   "outputs": [],
   "source": [
    "num_tot_training = len(file_list)\n",
    "args={}\n",
    "args['compression'] = 'gzip'\n",
    "args['compression_opts'] = 5\n",
    "\n",
    "tot_indeces = np.arange(len(input_file_list))\n",
    "X_train_list, X_val_list, y_train_list, y_val_list = train_test_split(input_file_list, output_file_list, test_size=0.2, shuffle=False)\n",
    "\n",
    "num_training = len(X_train_list)\n",
    "num_validation = len(y_train_list)\n",
    "\n",
    "X_train=ff.create_dataset(\"X_train\", (num_training, 1024, 1024, 1), dtype='float32', **args)\n",
    "y_train=ff.create_dataset(\"y_train\",(num_training, 1024, 1024, 1), dtype='float32', **args)\n",
    "\n",
    "X_val=ff.create_dataset(\"X_val\", (num_validation, 1024, 1024, 1), dtype='float32', **args)\n",
    "y_val=ff.create_dataset(\"y_val\",(num_validation, 1024, 1024, 1), dtype='float32', **args)"
   ]
  },
  {
   "cell_type": "code",
   "execution_count": 25,
   "metadata": {},
   "outputs": [],
   "source": [
    "target_size = (1024, 1024, 1)\n",
    "idx_counter=0\n",
    "for (ii, oo) in zip(X_train_list, y_train_list):\n",
    "    with open(ii, 'rb') as f:\n",
    "        img = pil_image.open(io.BytesIO(f.read()))\n",
    "        if img.size != targe_size:\n",
    "            img = img.resize(width_height_tuple, pil_image.NEAREST)\n",
    "        x = np.asarray(img, dtype='float32')\n",
    "        if img.mode == 'L': # 8 bit\n",
    "            x *= 1 / 255.\n",
    "        elif img.mode == 'I;16':\n",
    "            x *= 1 / 65536.\n",
    "    with open(oo, 'rb') as f:\n",
    "        out_img = pil_image.open(io.BytesIO(f.read()))\n",
    "        if out_img.size != target_size:\n",
    "            out_img = out_img.resize(width_height_tuple, pil_image.NEAREST)\n",
    "        y = np.asarray(out_img, dtype='float32')\n",
    "        if out_img.mode == 'L': # 8 bit\n",
    "            y *= 1 / 255.\n",
    "        elif out_img.mode == 'I;16':\n",
    "            y *= 1 / 65536.\n",
    "    \n",
    "    X_train[idx_counter] = x\n",
    "    y_train[idx_counter] = y\n",
    "    \n",
    "idx_counter=0\n",
    "for (ii, oo) in zip(X_val_list, y_val_list):\n",
    "    with open(ii, 'rb') as f:\n",
    "        img = pil_image.open(io.BytesIO(f.read()))\n",
    "        if img.size != targe_size:\n",
    "            img = img.resize(width_height_tuple, pil_image.NEAREST)\n",
    "        x = np.asarray(img, dtype='float32')\n",
    "        if img.mode == 'L': # 8 bit\n",
    "            x *= 1 / 255.\n",
    "        elif img.mode == 'I;16':\n",
    "            x *= 1 / 65536.\n",
    "    with open(oo, 'rb') as f:\n",
    "        out_img = pil_image.open(io.BytesIO(f.read()))\n",
    "        if out_img.size != target_size:\n",
    "            out_img = out_img.resize(width_height_tuple, pil_image.NEAREST)\n",
    "        y = np.asarray(out_img, dtype='float32')\n",
    "        if out_img.mode == 'L': # 8 bit\n",
    "            y *= 1 / 255.\n",
    "        elif out_img.mode == 'I;16':\n",
    "            y *= 1 / 65536.\n",
    "    \n",
    "    X_val[idx_counter] = x\n",
    "    y_val[idx_counter] = y"
   ]
  },
  {
   "cell_type": "code",
   "execution_count": 26,
   "metadata": {},
   "outputs": [
    {
     "data": {
      "text/plain": [
       "['/Users/pietro/Projects/DNNData/COVID-19/tt.png',\n",
       " '/Users/pietro/Projects/DNNData/COVID-19/model-001-0.816905-0.742984.h5']"
      ]
     },
     "execution_count": 26,
     "metadata": {},
     "output_type": "execute_result"
    }
   ],
   "source": [
    "X_val_list"
   ]
  },
  {
   "cell_type": "code",
   "execution_count": 27,
   "metadata": {},
   "outputs": [
    {
     "data": {
      "text/plain": [
       "['/Users/pietro/Projects/DNNData/COVID-19/tt.png',\n",
       " '/Users/pietro/Projects/DNNData/COVID-19/model-001-0.816905-0.742984.h5']"
      ]
     },
     "execution_count": 27,
     "metadata": {},
     "output_type": "execute_result"
    }
   ],
   "source": [
    "y_val_list"
   ]
  },
  {
   "cell_type": "code",
   "execution_count": null,
   "metadata": {},
   "outputs": [],
   "source": []
  }
 ],
 "metadata": {
  "kernelspec": {
   "display_name": "Python 3",
   "language": "python",
   "name": "python3"
  },
  "language_info": {
   "codemirror_mode": {
    "name": "ipython",
    "version": 3
   },
   "file_extension": ".py",
   "mimetype": "text/x-python",
   "name": "python",
   "nbconvert_exporter": "python",
   "pygments_lexer": "ipython3",
   "version": "3.6.8"
  }
 },
 "nbformat": 4,
 "nbformat_minor": 2
}
